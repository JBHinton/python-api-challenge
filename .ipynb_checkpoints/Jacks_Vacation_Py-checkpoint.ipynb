{
 "cells": [
  {
   "cell_type": "markdown",
   "metadata": {},
   "source": [
    "# VacationPy\n",
    "---\n",
    "\n",
    "## Starter Code to Import Libraries and Load the Weather and Coordinates Data"
   ]
  },
  {
   "cell_type": "code",
   "execution_count": 21,
   "metadata": {},
   "outputs": [],
   "source": [
    "# Dependencies and Setup\n",
    "import hvplot.pandas\n",
    "import pandas as pd\n",
    "import requests\n",
    "import numpy as np\n",
    "\n",
    "# Import API key\n",
    "from api_keys import geoapify_key"
   ]
  },
  {
   "cell_type": "code",
   "execution_count": 22,
   "metadata": {},
   "outputs": [
    {
     "data": {
      "text/html": [
       "<div>\n",
       "<style scoped>\n",
       "    .dataframe tbody tr th:only-of-type {\n",
       "        vertical-align: middle;\n",
       "    }\n",
       "\n",
       "    .dataframe tbody tr th {\n",
       "        vertical-align: top;\n",
       "    }\n",
       "\n",
       "    .dataframe thead th {\n",
       "        text-align: right;\n",
       "    }\n",
       "</style>\n",
       "<table border=\"1\" class=\"dataframe\">\n",
       "  <thead>\n",
       "    <tr style=\"text-align: right;\">\n",
       "      <th></th>\n",
       "      <th>City_ID</th>\n",
       "      <th>City</th>\n",
       "      <th>Country</th>\n",
       "      <th>Date</th>\n",
       "      <th>Latitude</th>\n",
       "      <th>Longitude</th>\n",
       "      <th>Cloudiness (%)</th>\n",
       "      <th>Humidity (%)</th>\n",
       "      <th>Max Temp (F)</th>\n",
       "      <th>Wind Speed (mph)</th>\n",
       "    </tr>\n",
       "  </thead>\n",
       "  <tbody>\n",
       "    <tr>\n",
       "      <th>0</th>\n",
       "      <td>0</td>\n",
       "      <td>tiksi</td>\n",
       "      <td>RU</td>\n",
       "      <td>2023-11-11 11:12:07</td>\n",
       "      <td>71.6872</td>\n",
       "      <td>128.8694</td>\n",
       "      <td>100.0</td>\n",
       "      <td>87.0</td>\n",
       "      <td>11.768</td>\n",
       "      <td>7.93</td>\n",
       "    </tr>\n",
       "    <tr>\n",
       "      <th>1</th>\n",
       "      <td>1</td>\n",
       "      <td>kafue</td>\n",
       "      <td>ZM</td>\n",
       "      <td>2023-11-11 11:18:18</td>\n",
       "      <td>-15.7691</td>\n",
       "      <td>28.1814</td>\n",
       "      <td>55.0</td>\n",
       "      <td>37.0</td>\n",
       "      <td>77.036</td>\n",
       "      <td>2.81</td>\n",
       "    </tr>\n",
       "    <tr>\n",
       "      <th>2</th>\n",
       "      <td>2</td>\n",
       "      <td>aasiaat</td>\n",
       "      <td>GL</td>\n",
       "      <td>2023-11-11 11:13:06</td>\n",
       "      <td>68.7098</td>\n",
       "      <td>-52.8699</td>\n",
       "      <td>100.0</td>\n",
       "      <td>76.0</td>\n",
       "      <td>10.796</td>\n",
       "      <td>3.07</td>\n",
       "    </tr>\n",
       "    <tr>\n",
       "      <th>3</th>\n",
       "      <td>3</td>\n",
       "      <td>villa de leyva</td>\n",
       "      <td>CO</td>\n",
       "      <td>2023-11-11 11:18:18</td>\n",
       "      <td>5.6450</td>\n",
       "      <td>-73.5667</td>\n",
       "      <td>93.0</td>\n",
       "      <td>64.0</td>\n",
       "      <td>72.572</td>\n",
       "      <td>1.74</td>\n",
       "    </tr>\n",
       "    <tr>\n",
       "      <th>4</th>\n",
       "      <td>4</td>\n",
       "      <td>waitangi</td>\n",
       "      <td>NZ</td>\n",
       "      <td>2023-11-11 11:11:51</td>\n",
       "      <td>-43.9535</td>\n",
       "      <td>-176.5597</td>\n",
       "      <td>22.0</td>\n",
       "      <td>90.0</td>\n",
       "      <td>52.088</td>\n",
       "      <td>0.45</td>\n",
       "    </tr>\n",
       "  </tbody>\n",
       "</table>\n",
       "</div>"
      ],
      "text/plain": [
       "   City_ID            City Country                 Date  Latitude  Longitude  \\\n",
       "0        0           tiksi      RU  2023-11-11 11:12:07   71.6872   128.8694   \n",
       "1        1           kafue      ZM  2023-11-11 11:18:18  -15.7691    28.1814   \n",
       "2        2         aasiaat      GL  2023-11-11 11:13:06   68.7098   -52.8699   \n",
       "3        3  villa de leyva      CO  2023-11-11 11:18:18    5.6450   -73.5667   \n",
       "4        4        waitangi      NZ  2023-11-11 11:11:51  -43.9535  -176.5597   \n",
       "\n",
       "   Cloudiness (%)  Humidity (%)  Max Temp (F)  Wind Speed (mph)  \n",
       "0           100.0          87.0        11.768              7.93  \n",
       "1            55.0          37.0        77.036              2.81  \n",
       "2           100.0          76.0        10.796              3.07  \n",
       "3            93.0          64.0        72.572              1.74  \n",
       "4            22.0          90.0        52.088              0.45  "
      ]
     },
     "execution_count": 22,
     "metadata": {},
     "output_type": "execute_result"
    }
   ],
   "source": [
    "# Load the CSV file created in Part 1 into a Pandas DataFrame\n",
    "city_data_df = pd.read_csv(\"output_data/cities.csv\")\n",
    "\n",
    "# Display sample data\n",
    "city_data_df.head()"
   ]
  },
  {
   "cell_type": "code",
   "execution_count": 45,
   "metadata": {},
   "outputs": [
    {
     "data": {
      "text/plain": [
       "0               tiksi\n",
       "1               kafue\n",
       "2             aasiaat\n",
       "3      villa de leyva\n",
       "4            waitangi\n",
       "            ...      \n",
       "610             kroya\n",
       "611          bandrele\n",
       "612        magdagachi\n",
       "613          sinabang\n",
       "614       mujiayingzi\n",
       "Name: City, Length: 615, dtype: object"
      ]
     },
     "execution_count": 45,
     "metadata": {},
     "output_type": "execute_result"
    }
   ],
   "source": [
    "city_data_df[\"City\"]"
   ]
  },
  {
   "cell_type": "code",
   "execution_count": 33,
   "metadata": {},
   "outputs": [
    {
     "name": "stdout",
     "output_type": "stream",
     "text": [
      "[ 87.  37.  76.  64.  90.  73.  98.  78.  62.  55. 100.  56.  83.  84.\n",
      "  92.  86.  79.  66.  81.  88.  94.   0.  85.  97.  46.  61.  77.  89.\n",
      "  17.  65.  43.  48.  80.  93.  63.  58.  33.  59.  36.  74.  28.  71.\n",
      "  45.  69.  52.  96.  75.  44.  15.  23.  12.  70.  95.  99.  68.  20.\n",
      "  47.   7.  24.  57.  25.  14.  29.  32.  34.  35.  49.  38.  39.  21.\n",
      "  13.  31.  51.  72.  67.  41.  54.  16.  18.  19.  27.  91.  82.  60.\n",
      "  42.  22.  53.  30.   9.  26.]\n"
     ]
    }
   ],
   "source": [
    "print(city_data_df['Humidity (%)'].unique())"
   ]
  },
  {
   "cell_type": "markdown",
   "metadata": {},
   "source": [
    "---\n",
    "\n",
    "### Step 1: Create a map that displays a point for every city in the `city_data_df` DataFrame. The size of the point should be the humidity in each city."
   ]
  },
  {
   "cell_type": "code",
   "execution_count": 43,
   "metadata": {},
   "outputs": [
    {
     "data": {
      "text/html": [
       "<b>ValueError</b><i> [Call holoviews.ipython.show_traceback() for details]</i><br>failed to validate Scatter(id='p2276', ...).hatch_color: expected an element of either String, Nullable(Color), Instance(Value), Instance(Field), Instance(Expr), Struct(value=Nullable(Color), transform=Instance(Transform)), Struct(field=String, transform=Instance(Transform)) or Struct(expr=Instance(Expression), transform=Instance(Transform)), got dim('City')"
      ],
      "text/plain": [
       ":Overlay\n",
       "   .WMTS.I   :WMTS   [Longitude,Latitude]\n",
       "   .Points.I :Points   [Longitude,Latitude]   (City)"
      ]
     },
     "execution_count": 43,
     "metadata": {},
     "output_type": "execute_result"
    }
   ],
   "source": [
    "\n",
    "# Configure the map plot\n",
    "map_plot_1 = city_data_df.hvplot.points(\n",
    "    \"Longitude\",\n",
    "    \"Latitude\",\n",
    "    geo=True,\n",
    "    tiles=\"OSM\",\n",
    "    frame_width=800,\n",
    "    frame_height=700,\n",
    "    color=\"City\"\n",
    ")\n",
    "\n",
    "# Display the map\n",
    "map_plot_1\n",
    "\n",
    "\n",
    "\n",
    "\n",
    "\n",
    "\n"
   ]
  }
 ],
 "metadata": {
  "kernelspec": {
   "display_name": "Python 3 (ipykernel)",
   "language": "python",
   "name": "python3"
  },
  "language_info": {
   "codemirror_mode": {
    "name": "ipython",
    "version": 3
   },
   "file_extension": ".py",
   "mimetype": "text/x-python",
   "name": "python",
   "nbconvert_exporter": "python",
   "pygments_lexer": "ipython3",
   "version": "3.11.5"
  }
 },
 "nbformat": 4,
 "nbformat_minor": 2
}
